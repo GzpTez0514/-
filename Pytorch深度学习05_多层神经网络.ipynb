{
  "nbformat": 4,
  "nbformat_minor": 0,
  "metadata": {
    "colab": {
      "name": "Pytorch深度学习05-多层神经网络.ipynb",
      "provenance": [],
      "authorship_tag": "ABX9TyNJyzbaJxstUqh0LZxACbQV",
      "include_colab_link": true
    },
    "kernelspec": {
      "name": "python3",
      "display_name": "Python 3"
    },
    "language_info": {
      "name": "python"
    }
  },
  "cells": [
    {
      "cell_type": "markdown",
      "metadata": {
        "id": "view-in-github",
        "colab_type": "text"
      },
      "source": [
        "<a href=\"https://colab.research.google.com/github/GzpTez0514/-/blob/main/Pytorch%E6%B7%B1%E5%BA%A6%E5%AD%A6%E4%B9%A005_%E5%A4%9A%E5%B1%82%E7%A5%9E%E7%BB%8F%E7%BD%91%E7%BB%9C.ipynb\" target=\"_parent\"><img src=\"https://colab.research.google.com/assets/colab-badge.svg\" alt=\"Open In Colab\"/></a>"
      ]
    },
    {
      "cell_type": "code",
      "execution_count": null,
      "metadata": {
        "colab": {
          "base_uri": "https://localhost:8080/",
          "height": 229
        },
        "id": "EhtAKMUqgj6O",
        "outputId": "6da6069d-d9f5-4ab0-a407-24c4dd79fe90"
      },
      "outputs": [
        {
          "output_type": "display_data",
          "data": {
            "text/plain": [
              "<Figure size 360x216 with 1 Axes>"
            ],
            "image/png": "[encoded data removed]"
          },
          "metadata": {
            "needs_background": "light"
          }
        }
      ],
      "source": [
        "# 或门\n",
        "import torch\n",
        "import numpy as np\n",
        "import matplotlib.pyplot as plt\n",
        "\n",
        "X = torch.tensor([[1,0,0],[1,1,0],[1,0,1],[1,1,1]], dtype = torch.float32)\n",
        "orgate = torch.tensor([0,1,1,1], dtype = torch.float32)\n",
        "def OR(X):\n",
        "  w = torch.tensor([-0.08,0.15,0.15], dtype = torch.float32) \n",
        "  zhat = torch.mv(X,w)\n",
        "  yhat = torch.tensor([int(x) for x in zhat >= 0],dtype=torch.float32)\n",
        "  return yhat\n",
        "\n",
        "OR(X)\n",
        "#绘制直线划分散点的图像\n",
        "x = np.arange(-1,3,0.5)\n",
        "plt.figure(figsize=(5,3))\n",
        "plt.title(\"OR GATE\",fontsize=16)\n",
        "plt.scatter(X[:,1],X[:,2],c=orgate,cmap=\"rainbow\") \n",
        "plt.plot(x,(0.08-0.15*x)/0.15,color=\"k\",linestyle=\"--\") \n",
        "plt.xlim(-1,3) \n",
        "plt.ylim(-1,3)\n",
        "plt.grid(alpha=.4,axis=\"y\") \n",
        "plt.gca().spines[\"top\"].set_alpha(.0) \n",
        "plt.gca().spines[\"right\"].set_alpha(.0)"
      ]
    },
    {
      "cell_type": "code",
      "source": [
        "# 与门\n",
        "X = torch.tensor([[1,0,0],[1,1,0],[1,0,1],[1,1,1]], dtype = torch.float32)\n",
        "andgate = torch.tensor([0,0,0,1], dtype = torch.float32)\n",
        "def AND(X):\n",
        "  w = torch.tensor([-0.2,0.15, 0.15], dtype = torch.float32)\n",
        "  zhat = torch.mv(X,w)\n",
        "  andhat = torch.tensor([int(x) for x in zhat >= 0],dtype=torch.float32)\n",
        "  return andhat\n",
        "  \n",
        "andhat = AND(X)\n",
        "andgate"
      ],
      "metadata": {
        "colab": {
          "base_uri": "https://localhost:8080/"
        },
        "id": "eTwcZuj2oyOf",
        "outputId": "39d6c1a4-ee3d-4c64-d4b8-7970fda56252"
      },
      "execution_count": null,
      "outputs": [
        {
          "output_type": "execute_result",
          "data": {
            "text/plain": [
              "tensor([0., 0., 0., 1.])"
            ]
          },
          "metadata": {},
          "execution_count": 4
        }
      ]
    },
    {
      "cell_type": "code",
      "source": [
        "# 非与门\n",
        "nandgate = torch.tensor([1,1,1,0], dtype = torch.float32)\n",
        "def NAND(X):\n",
        "  w = torch.tensor([0.23,-0.15,-0.15], dtype = torch.float32) \n",
        "  zhat = torch.mv(X,w)\n",
        "  yhat = torch.tensor([int(x) for x in zhat >= 0],dtype=torch.float32)\n",
        "  return yhat\n",
        "\n",
        "NAND(X)\n",
        "\n",
        "x = np.arange(-1,3,0.5)\n",
        "plt.figure(figsize=(5,3))\n",
        "plt.title(\"NAND GATE\",fontsize=16)\n",
        "plt.scatter(X[:,1],X[:,2],c=nandgate,cmap=\"rainbow\") \n",
        "plt.plot(x,(0.23-0.15*x)/0.15,color=\"k\",linestyle=\"--\") \n",
        "plt.xlim(-1,3) \n",
        "plt.ylim(-1,3)\n",
        "plt.grid(alpha=.4,axis=\"y\") \n",
        "plt.gca().spines[\"top\"].set_alpha(.0) \n",
        "plt.gca().spines[\"right\"].set_alpha(.0)"
      ],
      "metadata": {
        "colab": {
          "base_uri": "https://localhost:8080/",
          "height": 229
        },
        "id": "CFXi0NEWj_nt",
        "outputId": "bf0240ba-f483-4fc1-abb5-e8f72652abf2"
      },
      "execution_count": null,
      "outputs": [
        {
          "output_type": "display_data",
          "data": {
            "text/plain": [
              "<Figure size 360x216 with 1 Axes>"
            ],
            "image/png": "[encoded data removed]"
          },
          "metadata": {
            "needs_background": "light"
          }
        }
      ]
    },
    {
      "cell_type": "code",
      "source": [
        "# 异或门\n",
        "def XOR(X):\n",
        "  # 输入值：\n",
        "  input_1 = X\n",
        "  # 中间层:\n",
        "  sigma_nand = NAND(input_1)\n",
        "  sigma_or = OR(input_1)\n",
        "  x0 = torch.tensor([1, 1, 1, 1], dtype=torch.float32)\n",
        "  # 输出层：\n",
        "  input_2 = torch.cat((x0, sigma_nand.view(4, 1), sigma_or.view(4, 1)), dim=1)\n",
        "  y_and = AND(input_2)\n",
        "  return y_and"
      ],
      "metadata": {
        "id": "nFZN8etpkNUM"
      },
      "execution_count": null,
      "outputs": []
    }
  ]
}