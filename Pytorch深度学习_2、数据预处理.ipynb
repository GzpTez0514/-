{
  "nbformat": 4,
  "nbformat_minor": 0,
  "metadata": {
    "colab": {
      "name": "Pytorch深度学习-2、数据预处理",
      "provenance": [],
      "authorship_tag": "ABX9TyMrAfXzGU7vTDchqA5jc0jo",
      "include_colab_link": true
    },
    "kernelspec": {
      "name": "python3",
      "display_name": "Python 3"
    },
    "language_info": {
      "name": "python"
    }
  },
  "cells": [
    {
      "cell_type": "markdown",
      "metadata": {
        "id": "view-in-github",
        "colab_type": "text"
      },
      "source": [
        "<a href=\"https://colab.research.google.com/github/GzpTez0514/-/blob/main/Pytorch%E6%B7%B1%E5%BA%A6%E5%AD%A6%E4%B9%A0_2%E3%80%81%E6%95%B0%E6%8D%AE%E9%A2%84%E5%A4%84%E7%90%86.ipynb\" target=\"_parent\"><img src=\"https://colab.research.google.com/assets/colab-badge.svg\" alt=\"Open In Colab\"/></a>"
      ]
    },
    {
      "cell_type": "code",
      "execution_count": 10,
      "metadata": {
        "colab": {
          "base_uri": "https://localhost:8080/"
        },
        "id": "ZUBDqyLA9_jL",
        "outputId": "06a39d5a-cd0c-405a-83f8-28cf3866a09c"
      },
      "outputs": [
        {
          "output_type": "stream",
          "name": "stdout",
          "text": [
            "   NumRooms  Alley   Price\n",
            "0       NaN   Pave  127500\n",
            "1       2.0     NA  106000\n",
            "2       4.0     NA  178100\n",
            "3       NaN     NA  140000\n",
            "   NumRooms  Alley\n",
            "0       NaN   Pave\n",
            "1       2.0     NA\n",
            "2       4.0     NA\n",
            "3       NaN     NA\n",
            "0    127500\n",
            "1    106000\n",
            "2    178100\n",
            "3    140000\n",
            "Name:  Price, dtype: int64\n",
            "   NumRooms  Alley\n",
            "0       3.0   Pave\n",
            "1       2.0     NA\n",
            "2       4.0     NA\n",
            "3       3.0     NA\n",
            "   NumRooms   Alley_ NA   Alley_ Pave\n",
            "0       3.0           0             1\n",
            "1       2.0           1             0\n",
            "2       4.0           1             0\n",
            "3       3.0           1             0\n",
            "tensor([[3., 0., 1.],\n",
            "        [2., 1., 0.],\n",
            "        [4., 1., 0.],\n",
            "        [3., 1., 0.]], dtype=torch.float64)\n",
            "tensor([127500, 106000, 178100, 140000])\n"
          ]
        },
        {
          "output_type": "stream",
          "name": "stderr",
          "text": [
            "/usr/local/lib/python3.7/dist-packages/ipykernel_launcher.py:22: FutureWarning: Dropping of nuisance columns in DataFrame reductions (with 'numeric_only=None') is deprecated; in a future version this will raise TypeError.  Select only valid columns before calling the reduction.\n"
          ]
        }
      ],
      "source": [
        "# 读取数据集\n",
        "import torch\n",
        "import os\n",
        "import pandas as pd\n",
        "\n",
        "os.makedirs(os.path.join('..', 'data'), exist_ok=True)\n",
        "data_file = os.path.join('..', 'data', 'house_tiny.csv')\n",
        "with open(data_file, 'w') as f:\n",
        "  f.write('NumRooms, Alley, Price\\n')  # 列名\n",
        "  f.write('NA, Pave, 127500\\n')  # 每行表示一个数据样本\n",
        "  f.write('2, NA, 106000\\n')\n",
        "  f.write('4, NA, 178100\\n')\n",
        "  f.write('NA, NA, 140000\\n')\n",
        "data = pd.read_csv(data_file)\n",
        "print(data)\n",
        "\n",
        "# 处理缺失值\n",
        "inputs = data.iloc[:, 0:2]\n",
        "outputs = data.iloc[:, 2]\n",
        "print(inputs)\n",
        "print(outputs)\n",
        "inputs = inputs.fillna(inputs.mean())  # 对于inputs中缺少的数值，我们用同一列的均值替换“NaN”项\n",
        "print(inputs)\n",
        "inputs = pd.get_dummies(inputs, dummy_na=False)\n",
        "print(inputs)  # 由于“巷子类型”（“Alley”）列只接受两种类型的类别值“Pave”和“NaN”， pandas可以自动将此列转换为两列“Alley_Pave”和“Alley_nan”\n",
        "\n",
        "# 转换为张量格式\n",
        "X = torch.tensor(inputs.values)\n",
        "y = torch.tensor(outputs.values)\n",
        "print(X)\n",
        "print(y)"
      ]
    },
    {
      "cell_type": "code",
      "source": [
        ""
      ],
      "metadata": {
        "id": "xyIDV57GB9rC"
      },
      "execution_count": null,
      "outputs": []
    }
  ]
}