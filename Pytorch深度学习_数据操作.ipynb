{
  "nbformat": 4,
  "nbformat_minor": 0,
  "metadata": {
    "colab": {
      "name": "Pytorch深度学习-数据操作.ipynb",
      "provenance": [],
      "authorship_tag": "ABX9TyPIcAO8ZtcwK6hPfM+xidMu",
      "include_colab_link": true
    },
    "kernelspec": {
      "name": "python3",
      "display_name": "Python 3"
    },
    "language_info": {
      "name": "python"
    }
  },
  "cells": [
    {
      "cell_type": "markdown",
      "metadata": {
        "id": "view-in-github",
        "colab_type": "text"
      },
      "source": [
        "<a href=\"https://colab.research.google.com/github/GzpTez0514/-/blob/main/Pytorch%E6%B7%B1%E5%BA%A6%E5%AD%A6%E4%B9%A0_%E6%95%B0%E6%8D%AE%E6%93%8D%E4%BD%9C.ipynb\" target=\"_parent\"><img src=\"https://colab.research.google.com/assets/colab-badge.svg\" alt=\"Open In Colab\"/></a>"
      ]
    },
    {
      "cell_type": "code",
      "execution_count": null,
      "metadata": {
        "id": "5LEM0ZEcvhWt"
      },
      "outputs": [],
      "source": [
        "import torch\n",
        "x = torch.arange(12)\n",
        "print(x)\n",
        "print(x.shape)\n",
        "# 张量中元素的个数\n",
        "print(x.numel())\n",
        "X = x.reshape(3, 4)\n",
        "print(X)\n",
        "\n",
        "# 形状为（2， 3， 4）的张量，元素全为0\n",
        "a = torch.zeros((2, 3, 4))\n",
        "print(a)\n",
        "\n",
        "# 形状为(2, 3, 4)的张量，元素全为1\n",
        "b = torch.ones((2, 3, 4))\n",
        "print(b)\n",
        "\n",
        "# 形状为(3, 4)的张量，每个元素都从均值为0、标准差为1的正态分布中随机采样\n",
        "c = torch.randn(3, 4)\n",
        "print(c)\n",
        "\n",
        "# 最外层的列表对应于轴0，内层的列表对应于轴1\n",
        "d = torch.tensor([[2, 1, 4, 3], [1, 2, 3, 4], [4, 3, 2, 1]])\n",
        "print(d)"
      ]
    },
    {
      "cell_type": "code",
      "source": [
        "# 运算符\n",
        "x = torch.tensor([1.0, 2, 4, 8])\n",
        "y = torch.tensor([2, 2, 2, 2])\n",
        "print(x + y)\n",
        "print(x - y)\n",
        "print(x * y)\n",
        "print(x / y)\n",
        "print(x ** y)\n",
        "# 指数运算\n",
        "print(torch.exp(x))\n",
        "\n"
      ],
      "metadata": {
        "colab": {
          "base_uri": "https://localhost:8080/"
        },
        "id": "Uv5rbHpLwKLl",
        "outputId": "7c30e1d1-80a8-41b7-826c-f7f64ca10d85"
      },
      "execution_count": 14,
      "outputs": [
        {
          "output_type": "stream",
          "name": "stdout",
          "text": [
            "tensor([ 3.,  4.,  6., 10.])\n",
            "tensor([-1.,  0.,  2.,  6.])\n",
            "tensor([ 2.,  4.,  8., 16.])\n",
            "tensor([0.5000, 1.0000, 2.0000, 4.0000])\n",
            "tensor([ 1.,  4., 16., 64.])\n",
            "tensor([2.7183e+00, 7.3891e+00, 5.4598e+01, 2.9810e+03])\n"
          ]
        }
      ]
    }
  ]
}