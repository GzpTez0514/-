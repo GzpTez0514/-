{
  "nbformat": 4,
  "nbformat_minor": 0,
  "metadata": {
    "colab": {
      "name": "Pytorch深度学习-1、数据操作.ipynb",
      "provenance": [],
      "authorship_tag": "ABX9TyOH2mYKex6JZ+VDE5xHVy1B",
      "include_colab_link": true
    },
    "kernelspec": {
      "name": "python3",
      "display_name": "Python 3"
    },
    "language_info": {
      "name": "python"
    }
  },
  "cells": [
    {
      "cell_type": "markdown",
      "metadata": {
        "id": "view-in-github",
        "colab_type": "text"
      },
      "source": [
        "<a href=\"https://colab.research.google.com/github/GzpTez0514/-/blob/main/Pytorch%E6%B7%B1%E5%BA%A6%E5%AD%A6%E4%B9%A0_1%E3%80%81%E6%95%B0%E6%8D%AE%E6%93%8D%E4%BD%9C.ipynb\" target=\"_parent\"><img src=\"https://colab.research.google.com/assets/colab-badge.svg\" alt=\"Open In Colab\"/></a>"
      ]
    },
    {
      "cell_type": "code",
      "execution_count": 9,
      "metadata": {
        "id": "5LEM0ZEcvhWt",
        "colab": {
          "base_uri": "https://localhost:8080/"
        },
        "outputId": "d6d02395-762e-484c-a4dc-291e40255c98"
      },
      "outputs": [
        {
          "output_type": "stream",
          "name": "stdout",
          "text": [
            "tensor([ 0,  1,  2,  3,  4,  5,  6,  7,  8,  9, 10, 11])\n",
            "torch.Size([12])\n",
            "12\n",
            "tensor([[ 0,  1,  2,  3],\n",
            "        [ 4,  5,  6,  7],\n",
            "        [ 8,  9, 10, 11]])\n",
            "tensor([[[0., 0., 0., 0.],\n",
            "         [0., 0., 0., 0.],\n",
            "         [0., 0., 0., 0.]],\n",
            "\n",
            "        [[0., 0., 0., 0.],\n",
            "         [0., 0., 0., 0.],\n",
            "         [0., 0., 0., 0.]]])\n",
            "tensor([[[1., 1., 1., 1.],\n",
            "         [1., 1., 1., 1.],\n",
            "         [1., 1., 1., 1.]],\n",
            "\n",
            "        [[1., 1., 1., 1.],\n",
            "         [1., 1., 1., 1.],\n",
            "         [1., 1., 1., 1.]]])\n",
            "tensor([[ 0.6410,  0.9443, -0.6827, -1.1563],\n",
            "        [ 0.3870,  0.3132, -1.0187, -2.1897],\n",
            "        [ 0.6069, -0.4766, -0.1479, -1.5970]])\n",
            "tensor([[2, 1, 4, 3],\n",
            "        [1, 2, 3, 4],\n",
            "        [4, 3, 2, 1]])\n"
          ]
        }
      ],
      "source": [
        "import torch\n",
        "x = torch.arange(12)\n",
        "print(x)\n",
        "print(x.shape)\n",
        "# 张量中元素的个数\n",
        "print(x.numel())\n",
        "X = x.reshape(3, 4)\n",
        "print(X)\n",
        "\n",
        "# 形状为（2， 3， 4）的张量，元素全为0\n",
        "a = torch.zeros((2, 3, 4))\n",
        "print(a)\n",
        "\n",
        "# 形状为(2, 3, 4)的张量，元素全为1\n",
        "b = torch.ones((2, 3, 4))\n",
        "print(b)\n",
        "\n",
        "# 形状为(3, 4)的张量，每个元素都从均值为0、标准差为1的正态分布中随机采样\n",
        "c = torch.randn(3, 4)\n",
        "print(c)\n",
        "\n",
        "# 最外层的列表对应于轴0，内层的列表对应于轴1\n",
        "d = torch.tensor([[2, 1, 4, 3], [1, 2, 3, 4], [4, 3, 2, 1]])\n",
        "print(d)"
      ]
    },
    {
      "cell_type": "code",
      "source": [
        "import torch\n",
        "# 运算符\n",
        "x = torch.tensor([1.0, 2, 4, 8])\n",
        "y = torch.tensor([2, 2, 2, 2])\n",
        "print(x + y)\n",
        "print(x - y)\n",
        "print(x * y)\n",
        "print(x / y)\n",
        "print(x ** y)\n",
        "# 指数运算\n",
        "print(torch.exp(x))\n",
        "\n",
        "# 对张量进行纵向和横向合并\n",
        "X = torch.arange(12, dtype=torch.float32).reshape((3, 4))\n",
        "Y = torch.tensor([[2.0, 1, 4, 3], \n",
        "          [1, 2, 3, 4],\n",
        "          [4, 3, 2, 1]])\n",
        "\n",
        "print(torch.cat((X, Y), axis=0))\n",
        "print(torch.cat((X, Y), dim=0))\n",
        "print(torch.cat((X, Y), axis=1))\n",
        "print(X == Y)\n",
        "# 对张量中所有的元素求和\n",
        "print(X.sum())  # tensor(66.)"
      ],
      "metadata": {
        "id": "Uv5rbHpLwKLl",
        "colab": {
          "base_uri": "https://localhost:8080/"
        },
        "outputId": "b2b7d05a-1a73-497e-eff2-844a82c493d2"
      },
      "execution_count": 10,
      "outputs": [
        {
          "output_type": "stream",
          "name": "stdout",
          "text": [
            "tensor([ 3.,  4.,  6., 10.])\n",
            "tensor([-1.,  0.,  2.,  6.])\n",
            "tensor([ 2.,  4.,  8., 16.])\n",
            "tensor([0.5000, 1.0000, 2.0000, 4.0000])\n",
            "tensor([ 1.,  4., 16., 64.])\n",
            "tensor([2.7183e+00, 7.3891e+00, 5.4598e+01, 2.9810e+03])\n",
            "tensor([[ 0.,  1.,  2.,  3.],\n",
            "        [ 4.,  5.,  6.,  7.],\n",
            "        [ 8.,  9., 10., 11.],\n",
            "        [ 2.,  1.,  4.,  3.],\n",
            "        [ 1.,  2.,  3.,  4.],\n",
            "        [ 4.,  3.,  2.,  1.]])\n",
            "tensor([[ 0.,  1.,  2.,  3.],\n",
            "        [ 4.,  5.,  6.,  7.],\n",
            "        [ 8.,  9., 10., 11.],\n",
            "        [ 2.,  1.,  4.,  3.],\n",
            "        [ 1.,  2.,  3.,  4.],\n",
            "        [ 4.,  3.,  2.,  1.]])\n",
            "tensor([[ 0.,  1.,  2.,  3.,  2.,  1.,  4.,  3.],\n",
            "        [ 4.,  5.,  6.,  7.,  1.,  2.,  3.,  4.],\n",
            "        [ 8.,  9., 10., 11.,  4.,  3.,  2.,  1.]])\n",
            "tensor([[False,  True, False,  True],\n",
            "        [False, False, False, False],\n",
            "        [False, False, False, False]])\n",
            "tensor(66.)\n"
          ]
        }
      ]
    },
    {
      "cell_type": "code",
      "source": [
        "# 广播机制\n",
        "import torch\n",
        "a = torch.arange(3).reshape(3, 1)\n",
        "b = torch.arange(2).reshape(1, 2)\n",
        "print(a)\n",
        "print(b)\n",
        "# 将两个矩阵广播为一个更大的3*2矩阵,矩阵a将复制列，矩阵b将复制行，然后再按元素相加\n",
        "print(a + b)"
      ],
      "metadata": {
        "id": "n2aAHYfijQ4u",
        "colab": {
          "base_uri": "https://localhost:8080/"
        },
        "outputId": "0e949695-8f5b-4244-c5ab-b10bbd0f53d5"
      },
      "execution_count": 11,
      "outputs": [
        {
          "output_type": "stream",
          "name": "stdout",
          "text": [
            "tensor([[0],\n",
            "        [1],\n",
            "        [2]])\n",
            "tensor([[0, 1]])\n",
            "tensor([[0, 1],\n",
            "        [1, 2],\n",
            "        [2, 3]])\n"
          ]
        }
      ]
    },
    {
      "cell_type": "code",
      "source": [
        "# 索引和切片\n",
        "import torch\n",
        "X = torch.arange(12, dtype=torch.float32).reshape(3, 4)\n",
        "Y = torch.tensor([[2.0, 1, 4 ,3],\n",
        "          [1, 2, 3, 4], \n",
        "          [4, 3, 2, 1]])\n",
        "print(X)\n",
        "print(Y)\n",
        "# 用[-1]选择最后一个元素\n",
        "print(X[-1])\n",
        "# 用[1:3]选择第二个和第三个元素\n",
        "print(X[1:3])\n",
        "X[1, 2] = 9\n",
        "print(X)\n",
        "X[0:2, :] = 12\n",
        "print(X)"
      ],
      "metadata": {
        "id": "UE5Pmpvfj8pE",
        "colab": {
          "base_uri": "https://localhost:8080/"
        },
        "outputId": "2b714bbe-0d86-467a-b3bc-7c485827829e"
      },
      "execution_count": 12,
      "outputs": [
        {
          "output_type": "stream",
          "name": "stdout",
          "text": [
            "tensor([[ 0.,  1.,  2.,  3.],\n",
            "        [ 4.,  5.,  6.,  7.],\n",
            "        [ 8.,  9., 10., 11.]])\n",
            "tensor([[2., 1., 4., 3.],\n",
            "        [1., 2., 3., 4.],\n",
            "        [4., 3., 2., 1.]])\n",
            "tensor([ 8.,  9., 10., 11.])\n",
            "tensor([[ 4.,  5.,  6.,  7.],\n",
            "        [ 8.,  9., 10., 11.]])\n",
            "tensor([[ 0.,  1.,  2.,  3.],\n",
            "        [ 4.,  5.,  9.,  7.],\n",
            "        [ 8.,  9., 10., 11.]])\n",
            "tensor([[12., 12., 12., 12.],\n",
            "        [12., 12., 12., 12.],\n",
            "        [ 8.,  9., 10., 11.]])\n"
          ]
        }
      ]
    },
    {
      "cell_type": "code",
      "source": [
        "# 节省内存\n",
        "import torch\n",
        "X = torch.arange(12, dtype=torch.float32).reshape(3, 4)\n",
        "Y = torch.tensor([[2.0, 1, 4, 3],\n",
        "          [1, 2, 3, 4],\n",
        "          [4, 3, 2, 1]])\n",
        "\n",
        "# 如果我们用Y = X + Y，我们将取消引用Y指向的张量，而是指向新分配的内存处的张量。\n",
        "before = id(Y)\n",
        "print(before)  # 140439963779152\n",
        "Y = Y + X\n",
        "print(id(Y))  # 140439963779920\n",
        "\n",
        "# 原地执行这些更新,不分配新的内存\n",
        "Z = torch.zeros_like(Y)\n",
        "print('id(Z):', id(Z))  # 140439963626672\n",
        "Z[:] = X + Y\n",
        "print('id(Z):', id(Z))  # 140439963626672"
      ],
      "metadata": {
        "id": "fBX7StlsmkAj",
        "colab": {
          "base_uri": "https://localhost:8080/"
        },
        "outputId": "5cbc96c6-1186-489a-818b-0570ebbabb39"
      },
      "execution_count": 13,
      "outputs": [
        {
          "output_type": "stream",
          "name": "stdout",
          "text": [
            "140221790737904\n",
            "140221790738384\n",
            "id(Z): 140221790737904\n",
            "id(Z): 140221790737904\n"
          ]
        }
      ]
    },
    {
      "cell_type": "code",
      "source": [
        "from typing_extensions import TypeAlias\n",
        "# 转换为其他Python对象\n",
        "import torch\n",
        "import numpy as np\n",
        "A = X.numpy()\n",
        "B = torch.tensor(A)\n",
        "print(type(A))\n",
        "print(type(B))\n",
        "\n",
        "a = torch.tensor([3.5])\n",
        "print(a)\n",
        "print(a.item())\n",
        "print(float(a))\n",
        "print(int(a))"
      ],
      "metadata": {
        "colab": {
          "base_uri": "https://localhost:8080/"
        },
        "id": "Z8qhaWxQrfqa",
        "outputId": "68761a0e-c8b2-46c3-be2a-571fc14dcc72"
      },
      "execution_count": 14,
      "outputs": [
        {
          "output_type": "stream",
          "name": "stdout",
          "text": [
            "<class 'numpy.ndarray'>\n",
            "<class 'torch.Tensor'>\n",
            "tensor([3.5000])\n",
            "3.5\n",
            "3.5\n",
            "3\n"
          ]
        }
      ]
    },
    {
      "cell_type": "code",
      "source": [
        "# 一维张量索引\n",
        "import torch\n",
        "t1 = torch.arange(1, 11)\n",
        "print(t1)\n",
        "print(t1[1: 8: 2])\n",
        "print(t1[1: : 2])"
      ],
      "metadata": {
        "colab": {
          "base_uri": "https://localhost:8080/"
        },
        "id": "oyRPeLo9xPNz",
        "outputId": "2e6e9dfe-e0ba-45a0-f86f-4f07a3bbe06f"
      },
      "execution_count": 5,
      "outputs": [
        {
          "output_type": "stream",
          "name": "stdout",
          "text": [
            "tensor([ 1,  2,  3,  4,  5,  6,  7,  8,  9, 10])\n",
            "tensor([2, 4, 6, 8])\n",
            "tensor([ 2,  4,  6,  8, 10])\n"
          ]
        }
      ]
    },
    {
      "cell_type": "code",
      "source": [
        "# 二维张量索引\n",
        "t2 = torch.arange(1, 10).reshape(3, 3)\n",
        "print(t2)\n",
        "print(t2[0, 1])\n",
        "print(t2[0, ::2])\n",
        "print(t2[0, [0, 2]])\n",
        "print(t2[::2, ::2])\n",
        "print(t2[[0, 2], 1])"
      ],
      "metadata": {
        "colab": {
          "base_uri": "https://localhost:8080/"
        },
        "id": "E12aqYB-zMYW",
        "outputId": "63c56ffd-8c3e-43f7-b2b3-85a5aa7abefa"
      },
      "execution_count": 17,
      "outputs": [
        {
          "output_type": "stream",
          "name": "stdout",
          "text": [
            "tensor([[1, 2, 3],\n",
            "        [4, 5, 6],\n",
            "        [7, 8, 9]])\n",
            "tensor(2)\n",
            "tensor([1, 3])\n",
            "tensor([1, 3])\n",
            "tensor([[1, 3],\n",
            "        [7, 9]])\n",
            "tensor([2, 8])\n"
          ]
        }
      ]
    },
    {
      "cell_type": "code",
      "source": [
        "# 三维张量的索引\n",
        "t3 = torch.arange(1, 28).reshape(3, 3, 3)\n",
        "print(t3)\n",
        "print(t3[1, 1, 1])\n",
        "print(t3[1, ::2, ::2])\n",
        "print(t3[::2, ::2, ::2])\n",
        "print(t3.shape)\n",
        "print(t3[1, 1, 1])"
      ],
      "metadata": {
        "colab": {
          "base_uri": "https://localhost:8080/"
        },
        "id": "ctswiDAj0xSc",
        "outputId": "7597cbc0-5807-44cc-f85b-6775f0327eb1"
      },
      "execution_count": 24,
      "outputs": [
        {
          "output_type": "stream",
          "name": "stdout",
          "text": [
            "tensor([[[ 1,  2,  3],\n",
            "         [ 4,  5,  6],\n",
            "         [ 7,  8,  9]],\n",
            "\n",
            "        [[10, 11, 12],\n",
            "         [13, 14, 15],\n",
            "         [16, 17, 18]],\n",
            "\n",
            "        [[19, 20, 21],\n",
            "         [22, 23, 24],\n",
            "         [25, 26, 27]]])\n",
            "tensor(14)\n",
            "tensor([[10, 12],\n",
            "        [16, 18]])\n",
            "tensor([[[ 1,  3],\n",
            "         [ 7,  9]],\n",
            "\n",
            "        [[19, 21],\n",
            "         [25, 27]]])\n",
            "torch.Size([3, 3, 3])\n",
            "tensor(14)\n"
          ]
        }
      ]
    },
    {
      "cell_type": "code",
      "source": [
        "# 张量的函数索引\n",
        "t1 = torch.arange(1, 11)\n",
        "print(t1)\n",
        "indices = torch.tensor([1, 2])\n",
        "print(indices)\n",
        "print(torch.index_select(t1, 0, indices))\n",
        "\n",
        "t2 = torch.arange(12).reshape(4, 3)\n",
        "print(t2)\n",
        "print(torch.index_select(t2, 1, indices))"
      ],
      "metadata": {
        "colab": {
          "base_uri": "https://localhost:8080/"
        },
        "id": "qF2T1TN72iRS",
        "outputId": "8b90180f-c1fc-48b3-cfa5-5cb160d2c873"
      },
      "execution_count": 29,
      "outputs": [
        {
          "output_type": "stream",
          "name": "stdout",
          "text": [
            "tensor([ 1,  2,  3,  4,  5,  6,  7,  8,  9, 10])\n",
            "tensor([1, 2])\n",
            "tensor([2, 3])\n",
            "tensor([[ 0,  1,  2],\n",
            "        [ 3,  4,  5],\n",
            "        [ 6,  7,  8],\n",
            "        [ 9, 10, 11]])\n",
            "tensor([[ 1,  2],\n",
            "        [ 4,  5],\n",
            "        [ 7,  8],\n",
            "        [10, 11]])\n"
          ]
        }
      ]
    },
    {
      "cell_type": "code",
      "source": [
        "import torch\n",
        "# 不同维度的张量计算过程中广播 首先将低维的张量升\n",
        "t2 = torch.zeros((3, 4))\n",
        "print(t2)\n",
        "\n",
        "t3 = torch.zeros(3, 4, 5)\n",
        "print(t3)"
      ],
      "metadata": {
        "colab": {
          "base_uri": "https://localhost:8080/"
        },
        "id": "N8tuTzNYPktq",
        "outputId": "ce69b7ea-e21d-479b-b271-20fb7b8690b1"
      },
      "execution_count": 15,
      "outputs": [
        {
          "output_type": "stream",
          "name": "stdout",
          "text": [
            "tensor([[0., 0., 0., 0.],\n",
            "        [0., 0., 0., 0.],\n",
            "        [0., 0., 0., 0.]])\n",
            "tensor([[[0., 0., 0., 0., 0.],\n",
            "         [0., 0., 0., 0., 0.],\n",
            "         [0., 0., 0., 0., 0.],\n",
            "         [0., 0., 0., 0., 0.]],\n",
            "\n",
            "        [[0., 0., 0., 0., 0.],\n",
            "         [0., 0., 0., 0., 0.],\n",
            "         [0., 0., 0., 0., 0.],\n",
            "         [0., 0., 0., 0., 0.]],\n",
            "\n",
            "        [[0., 0., 0., 0., 0.],\n",
            "         [0., 0., 0., 0., 0.],\n",
            "         [0., 0., 0., 0., 0.],\n",
            "         [0., 0., 0., 0., 0.]]])\n"
          ]
        }
      ]
    },
    {
      "cell_type": "code",
      "source": [
        "t2 = torch.arange(4).reshape(2, 2)\n",
        "print(t2)\n",
        "print(t2.ndim)\n",
        "\n",
        "# 转化为3维张量\n",
        "t2 = t2.reshape(1, 2, 2)\n",
        "print(t2)\n",
        "\n",
        "# 转化为4维张量\n",
        "t2 = t2.reshape(1, 1, 2, 2)\n",
        "print(t2)\n",
        "\n",
        "t3 = torch.zeros(3, 2, 2)\n",
        "print(t3)\n",
        "print(t2 + t3)"
      ],
      "metadata": {
        "colab": {
          "base_uri": "https://localhost:8080/"
        },
        "id": "zrBMQ51QS9UI",
        "outputId": "4f968912-16d8-41a2-8bcc-26f32336b329"
      },
      "execution_count": 32,
      "outputs": [
        {
          "output_type": "stream",
          "name": "stdout",
          "text": [
            "tensor([[0, 1],\n",
            "        [2, 3]])\n",
            "2\n",
            "tensor([[[0, 1],\n",
            "         [2, 3]]])\n",
            "tensor([[[[0, 1],\n",
            "          [2, 3]]]])\n",
            "tensor([[[0., 0.],\n",
            "         [0., 0.]],\n",
            "\n",
            "        [[0., 0.],\n",
            "         [0., 0.]],\n",
            "\n",
            "        [[0., 0.],\n",
            "         [0., 0.]]])\n",
            "tensor([[[[0., 1.],\n",
            "          [2., 3.]],\n",
            "\n",
            "         [[0., 1.],\n",
            "          [2., 3.]],\n",
            "\n",
            "         [[0., 1.],\n",
            "          [2., 3.]]]])\n"
          ]
        }
      ]
    },
    {
      "cell_type": "code",
      "source": [
        "# 逐点计算\n",
        "t1 = torch.tensor([1, 2])\n",
        "print(t1)\n",
        "\n",
        "t2 = torch.tensor([3, 4])\n",
        "print(t2)\n",
        "print(torch.add(t1, t2))\n",
        "print(t1 + t2)\n",
        "print(t1 / t2)"
      ],
      "metadata": {
        "colab": {
          "base_uri": "https://localhost:8080/"
        },
        "id": "CN4RERluWmny",
        "outputId": "f9251a7f-0d09-4f37-bb91-88460eb7762c"
      },
      "execution_count": 37,
      "outputs": [
        {
          "output_type": "stream",
          "name": "stdout",
          "text": [
            "tensor([1, 2])\n",
            "tensor([3, 4])\n",
            "tensor([4, 6])\n",
            "tensor([4, 6])\n",
            "tensor([0.3333, 0.5000])\n"
          ]
        }
      ]
    },
    {
      "cell_type": "code",
      "source": [
        "# Tensor数值调整函数\n",
        "t = torch.randn(5)\n",
        "print(t)\n",
        "print(torch.round(t))  # 四舍五入\n",
        "print(torch.abs(t))\n",
        "print(torch.neg(t))  # 取反"
      ],
      "metadata": {
        "colab": {
          "base_uri": "https://localhost:8080/"
        },
        "id": "zd0cTP-uX5Sn",
        "outputId": "a91ff280-24cc-43ba-ea32-b211155fa8e6"
      },
      "execution_count": 41,
      "outputs": [
        {
          "output_type": "stream",
          "name": "stdout",
          "text": [
            "tensor([-1.6453,  0.8934,  0.1217,  0.4126, -1.2541])\n",
            "tensor([-2.,  1.,  0.,  0., -1.])\n",
            "tensor([1.6453, 0.8934, 0.1217, 0.4126, 1.2541])\n",
            "tensor([ 1.6453, -0.8934, -0.1217, -0.4126,  1.2541])\n"
          ]
        }
      ]
    },
    {
      "cell_type": "code",
      "source": [
        "# tensor常用科学计算\n",
        "print(torch.pow(torch.tensor(2), 2)) # 计算2的2次幂\n",
        "\n",
        "\n",
        "# 需要注意的是，虽然Python是动态编译的编程语言，但在PyTorch中，由于\n",
        "# 会涉及GPU计算，因此很多时候元素类型不会在实际执行函数计算时进行调整。此处的科学运算大多数都要求对象类型是浮点型，我们需要提前进行类型转化。\n",
        "t = torch.arange(1, 4).float()\n",
        "print(t)  # tensor([1., 2., 3.])\n",
        "print(torch.exp(t)) # e^t\n",
        "print(torch.exp2(t)) # 2^t\n",
        "print(torch.expm1(t)) # e^(t-1)\n",
        "print(torch.pow(t, 2)) # t^2 tensor([1., 4., 9.])\n",
        "print(torch.square(t)) # t^2 tensor([1., 4., 9.])\n",
        "print(torch.sqrt(t)) # t^0.5\n",
        "print(torch.pow(t, 0.5)) # t^0.5\n",
        "print(torch.log10(t))\n",
        "print(torch.log(t))\n",
        "print(torch.log2(t)) \n",
        "print(torch.log1p(t)) # log(t-1)\n",
        "print(torch.exp(torch.log(t)))  # tensor([1., 2., 3.])\n",
        "print(torch.exp2(torch.log2(t))) # tensor([1., 2., 3.])\n",
        "print(torch.expm1(torch.log1p(t))) # tensor([1., 2., 3.]\n"
      ],
      "metadata": {
        "colab": {
          "base_uri": "https://localhost:8080/"
        },
        "id": "5389g1vnYgFi",
        "outputId": "7f321d67-8ef8-4b73-b1fe-29da4e8fb781"
      },
      "execution_count": 64,
      "outputs": [
        {
          "output_type": "stream",
          "name": "stdout",
          "text": [
            "tensor(4)\n",
            "tensor([1., 2., 3.])\n",
            "tensor([ 2.7183,  7.3891, 20.0855])\n",
            "tensor([2., 4., 8.])\n",
            "tensor([ 1.7183,  6.3891, 19.0855])\n",
            "tensor([1., 4., 9.])\n",
            "tensor([1., 4., 9.])\n",
            "tensor([1.0000, 1.4142, 1.7321])\n",
            "tensor([1.0000, 1.4142, 1.7321])\n",
            "tensor([0.0000, 0.3010, 0.4771])\n",
            "tensor([0.0000, 0.6931, 1.0986])\n",
            "tensor([0.0000, 1.0000, 1.5850])\n",
            "tensor([0.6931, 1.0986, 1.3863])\n",
            "tensor([1., 2., 3.])\n",
            "tensor([1., 2., 3.])\n",
            "tensor([1., 2., 3.])\n"
          ]
        }
      ]
    }
  ]
}