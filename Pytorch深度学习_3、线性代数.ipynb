{
  "nbformat": 4,
  "nbformat_minor": 0,
  "metadata": {
    "colab": {
      "name": "Pytorch深度学习-3、线性代数.ipynb",
      "provenance": [],
      "authorship_tag": "ABX9TyOV/3HLMdRnXxA+qG9UOzOH",
      "include_colab_link": true
    },
    "kernelspec": {
      "name": "python3",
      "display_name": "Python 3"
    },
    "language_info": {
      "name": "python"
    }
  },
  "cells": [
    {
      "cell_type": "markdown",
      "metadata": {
        "id": "view-in-github",
        "colab_type": "text"
      },
      "source": [
        "<a href=\"https://colab.research.google.com/github/GzpTez0514/-/blob/main/Pytorch%E6%B7%B1%E5%BA%A6%E5%AD%A6%E4%B9%A0_3%E3%80%81%E7%BA%BF%E6%80%A7%E4%BB%A3%E6%95%B0.ipynb\" target=\"_parent\"><img src=\"https://colab.research.google.com/assets/colab-badge.svg\" alt=\"Open In Colab\"/></a>"
      ]
    },
    {
      "cell_type": "code",
      "execution_count": 1,
      "metadata": {
        "colab": {
          "base_uri": "https://localhost:8080/"
        },
        "id": "VhjBr5tFHzom",
        "outputId": "99b17eb7-7898-49fe-c46a-bc9ffdea658e"
      },
      "outputs": [
        {
          "output_type": "stream",
          "name": "stdout",
          "text": [
            "tensor(5.)\n",
            "tensor(6.)\n",
            "tensor(1.5000)\n",
            "tensor(9.)\n"
          ]
        }
      ],
      "source": [
        "# 标量\n",
        "import torch\n",
        "x = torch.tensor(3.0)\n",
        "y = torch.tensor(2.0)\n",
        "print(x + y)\n",
        "print(x * y)\n",
        "print(x / y)\n",
        "print(x ** y)"
      ]
    },
    {
      "cell_type": "code",
      "source": [
        "# 向量\n",
        "x = torch.arange(4)\n",
        "print(x)\n",
        "print(x[3])"
      ],
      "metadata": {
        "colab": {
          "base_uri": "https://localhost:8080/"
        },
        "id": "zeCbITMLI_Aq",
        "outputId": "787991a7-284b-49b5-faf6-380bb0a8863b"
      },
      "execution_count": 4,
      "outputs": [
        {
          "output_type": "stream",
          "name": "stdout",
          "text": [
            "tensor([0, 1, 2, 3])\n",
            "tensor(3)\n"
          ]
        }
      ]
    },
    {
      "cell_type": "code",
      "source": [
        "# 长度、维度和形状\n",
        "x = torch.arange(4)  \n",
        "print(len(x))   # 张量的长度\n",
        "print(x.shape)  # 张量的形状和维度"
      ],
      "metadata": {
        "colab": {
          "base_uri": "https://localhost:8080/"
        },
        "id": "ARK3rVuCJqXv",
        "outputId": "2db7b696-cc05-47a0-a531-b8cb9570e61b"
      },
      "execution_count": 6,
      "outputs": [
        {
          "output_type": "stream",
          "name": "stdout",
          "text": [
            "4\n",
            "torch.Size([4])\n"
          ]
        }
      ]
    },
    {
      "cell_type": "code",
      "source": [
        "# 矩阵\n",
        "A = torch.arange(20).reshape(5, 4)\n",
        "print(A)\n",
        "print(A.T)  # A的转置\n",
        "\n",
        "B = torch.tensor([[1, 2, 3], [2, 0, 4], [3, 4, 5]])\n",
        "print(B)\n",
        "print(B == B.T)"
      ],
      "metadata": {
        "colab": {
          "base_uri": "https://localhost:8080/"
        },
        "id": "sgP6k_VoLL-0",
        "outputId": "d6766f18-7206-4d2c-d723-9a6d25d3d396"
      },
      "execution_count": 10,
      "outputs": [
        {
          "output_type": "stream",
          "name": "stdout",
          "text": [
            "tensor([[ 0,  1,  2,  3],\n",
            "        [ 4,  5,  6,  7],\n",
            "        [ 8,  9, 10, 11],\n",
            "        [12, 13, 14, 15],\n",
            "        [16, 17, 18, 19]])\n",
            "tensor([[ 0,  4,  8, 12, 16],\n",
            "        [ 1,  5,  9, 13, 17],\n",
            "        [ 2,  6, 10, 14, 18],\n",
            "        [ 3,  7, 11, 15, 19]])\n",
            "tensor([[1, 2, 3],\n",
            "        [2, 0, 4],\n",
            "        [3, 4, 5]])\n",
            "tensor([[True, True, True],\n",
            "        [True, True, True],\n",
            "        [True, True, True]])\n"
          ]
        }
      ]
    },
    {
      "cell_type": "code",
      "source": [
        "# 张量\n",
        "X = torch.arange(24).reshape(2, 3, 4)\n",
        "print(X)"
      ],
      "metadata": {
        "colab": {
          "base_uri": "https://localhost:8080/"
        },
        "id": "cizqxAJCMLV-",
        "outputId": "f4a43726-fdfe-46c1-e0d4-2a68be9e7d8e"
      },
      "execution_count": 11,
      "outputs": [
        {
          "output_type": "stream",
          "name": "stdout",
          "text": [
            "tensor([[[ 0,  1,  2,  3],\n",
            "         [ 4,  5,  6,  7],\n",
            "         [ 8,  9, 10, 11]],\n",
            "\n",
            "        [[12, 13, 14, 15],\n",
            "         [16, 17, 18, 19],\n",
            "         [20, 21, 22, 23]]])\n"
          ]
        }
      ]
    },
    {
      "cell_type": "code",
      "source": [
        "# 张量算法的基本性质\n",
        "A = torch.arange(20, dtype=torch.float32).reshape(5, 4)\n",
        "B = A.clone()  # 通过分配新内存，将A的一个副本分配给B\n",
        "print(A)\n",
        "print(A + B)\n",
        "print(A * B)\n",
        "\n",
        "a = 2\n",
        "X = torch.arange(24).reshape(2, 3, 4)\n",
        "print(a + X)\n",
        "print((a * X).shape)"
      ],
      "metadata": {
        "colab": {
          "base_uri": "https://localhost:8080/"
        },
        "id": "V0Tc7Q0pMo_e",
        "outputId": "581f4e1c-25ad-4b04-ee47-244bfbb68884"
      },
      "execution_count": 14,
      "outputs": [
        {
          "output_type": "stream",
          "name": "stdout",
          "text": [
            "tensor([[ 0.,  1.,  2.,  3.],\n",
            "        [ 4.,  5.,  6.,  7.],\n",
            "        [ 8.,  9., 10., 11.],\n",
            "        [12., 13., 14., 15.],\n",
            "        [16., 17., 18., 19.]])\n",
            "tensor([[ 0.,  2.,  4.,  6.],\n",
            "        [ 8., 10., 12., 14.],\n",
            "        [16., 18., 20., 22.],\n",
            "        [24., 26., 28., 30.],\n",
            "        [32., 34., 36., 38.]])\n",
            "tensor([[  0.,   1.,   4.,   9.],\n",
            "        [ 16.,  25.,  36.,  49.],\n",
            "        [ 64.,  81., 100., 121.],\n",
            "        [144., 169., 196., 225.],\n",
            "        [256., 289., 324., 361.]])\n",
            "tensor([[[ 2,  3,  4,  5],\n",
            "         [ 6,  7,  8,  9],\n",
            "         [10, 11, 12, 13]],\n",
            "\n",
            "        [[14, 15, 16, 17],\n",
            "         [18, 19, 20, 21],\n",
            "         [22, 23, 24, 25]]])\n",
            "torch.Size([2, 3, 4])\n"
          ]
        }
      ]
    },
    {
      "cell_type": "code",
      "source": [
        "# 降维\n",
        "x = torch.arange(4, dtype=torch.float32)\n",
        "print(x)\n",
        "print(x.sum())\n",
        "\n",
        "A = torch.arange(20, dtype=torch.float32).reshape(5, 4)\n",
        "print(A.sum())\n",
        "print(A.shape)"
      ],
      "metadata": {
        "colab": {
          "base_uri": "https://localhost:8080/"
        },
        "id": "Z7LI6AsDNybK",
        "outputId": "083eae01-fbfb-499b-d5fb-c11c0349f0d2"
      },
      "execution_count": 19,
      "outputs": [
        {
          "output_type": "stream",
          "name": "stdout",
          "text": [
            "tensor([0., 1., 2., 3.])\n",
            "tensor(6.)\n",
            "tensor(190.)\n",
            "torch.Size([5, 4])\n"
          ]
        }
      ]
    }
  ]
}