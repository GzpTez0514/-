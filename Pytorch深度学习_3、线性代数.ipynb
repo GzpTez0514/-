{
  "nbformat": 4,
  "nbformat_minor": 0,
  "metadata": {
    "colab": {
      "name": "Pytorch深度学习-3、线性代数.ipynb",
      "provenance": [],
      "authorship_tag": "ABX9TyOIg2drirHFHggiGAayfloR",
      "include_colab_link": true
    },
    "kernelspec": {
      "name": "python3",
      "display_name": "Python 3"
    },
    "language_info": {
      "name": "python"
    }
  },
  "cells": [
    {
      "cell_type": "markdown",
      "metadata": {
        "id": "view-in-github",
        "colab_type": "text"
      },
      "source": [
        "<a href=\"https://colab.research.google.com/github/GzpTez0514/-/blob/main/Pytorch%E6%B7%B1%E5%BA%A6%E5%AD%A6%E4%B9%A0_3%E3%80%81%E7%BA%BF%E6%80%A7%E4%BB%A3%E6%95%B0.ipynb\" target=\"_parent\"><img src=\"https://colab.research.google.com/assets/colab-badge.svg\" alt=\"Open In Colab\"/></a>"
      ]
    },
    {
      "cell_type": "code",
      "execution_count": 1,
      "metadata": {
        "colab": {
          "base_uri": "https://localhost:8080/"
        },
        "id": "VhjBr5tFHzom",
        "outputId": "99b17eb7-7898-49fe-c46a-bc9ffdea658e"
      },
      "outputs": [
        {
          "output_type": "stream",
          "name": "stdout",
          "text": [
            "tensor(5.)\n",
            "tensor(6.)\n",
            "tensor(1.5000)\n",
            "tensor(9.)\n"
          ]
        }
      ],
      "source": [
        "# 标量\n",
        "import torch\n",
        "x = torch.tensor(3.0)\n",
        "y = torch.tensor(2.0)\n",
        "print(x + y)\n",
        "print(x * y)\n",
        "print(x / y)\n",
        "print(x ** y)"
      ]
    },
    {
      "cell_type": "code",
      "source": [
        "# 向量\n",
        "x = torch.arange(4)\n",
        "print(x)\n",
        "print(x[3])"
      ],
      "metadata": {
        "colab": {
          "base_uri": "https://localhost:8080/"
        },
        "id": "zeCbITMLI_Aq",
        "outputId": "787991a7-284b-49b5-faf6-380bb0a8863b"
      },
      "execution_count": 4,
      "outputs": [
        {
          "output_type": "stream",
          "name": "stdout",
          "text": [
            "tensor([0, 1, 2, 3])\n",
            "tensor(3)\n"
          ]
        }
      ]
    },
    {
      "cell_type": "code",
      "source": [
        "# 长度、维度和形状\n",
        "x = torch.arange(4)  \n",
        "print(len(x))   # 张量的长度\n",
        "print(x.shape)  # 张量的形状和维度"
      ],
      "metadata": {
        "colab": {
          "base_uri": "https://localhost:8080/"
        },
        "id": "ARK3rVuCJqXv",
        "outputId": "2db7b696-cc05-47a0-a531-b8cb9570e61b"
      },
      "execution_count": 6,
      "outputs": [
        {
          "output_type": "stream",
          "name": "stdout",
          "text": [
            "4\n",
            "torch.Size([4])\n"
          ]
        }
      ]
    },
    {
      "cell_type": "code",
      "source": [
        "# 矩阵\n",
        "A = torch.arange(20).reshape(5, 4)\n",
        "print(A)\n",
        "print(A.T)  # A的转置\n",
        "\n",
        "B = torch.tensor([[1, 2, 3], [2, 0, 4], [3, 4, 5]])\n",
        "print(B)\n",
        "print(B == B.T)"
      ],
      "metadata": {
        "colab": {
          "base_uri": "https://localhost:8080/"
        },
        "id": "sgP6k_VoLL-0",
        "outputId": "d6766f18-7206-4d2c-d723-9a6d25d3d396"
      },
      "execution_count": 10,
      "outputs": [
        {
          "output_type": "stream",
          "name": "stdout",
          "text": [
            "tensor([[ 0,  1,  2,  3],\n",
            "        [ 4,  5,  6,  7],\n",
            "        [ 8,  9, 10, 11],\n",
            "        [12, 13, 14, 15],\n",
            "        [16, 17, 18, 19]])\n",
            "tensor([[ 0,  4,  8, 12, 16],\n",
            "        [ 1,  5,  9, 13, 17],\n",
            "        [ 2,  6, 10, 14, 18],\n",
            "        [ 3,  7, 11, 15, 19]])\n",
            "tensor([[1, 2, 3],\n",
            "        [2, 0, 4],\n",
            "        [3, 4, 5]])\n",
            "tensor([[True, True, True],\n",
            "        [True, True, True],\n",
            "        [True, True, True]])\n"
          ]
        }
      ]
    },
    {
      "cell_type": "code",
      "source": [
        "# 张量\n",
        "X = torch.arange(24).reshape(2, 3, 4)\n",
        "print(X)"
      ],
      "metadata": {
        "colab": {
          "base_uri": "https://localhost:8080/"
        },
        "id": "cizqxAJCMLV-",
        "outputId": "f4a43726-fdfe-46c1-e0d4-2a68be9e7d8e"
      },
      "execution_count": 11,
      "outputs": [
        {
          "output_type": "stream",
          "name": "stdout",
          "text": [
            "tensor([[[ 0,  1,  2,  3],\n",
            "         [ 4,  5,  6,  7],\n",
            "         [ 8,  9, 10, 11]],\n",
            "\n",
            "        [[12, 13, 14, 15],\n",
            "         [16, 17, 18, 19],\n",
            "         [20, 21, 22, 23]]])\n"
          ]
        }
      ]
    },
    {
      "cell_type": "code",
      "source": [
        "# 张量算法的基本性质\n",
        "A = torch.arange(20, dtype=torch.float32).reshape(5, 4)\n",
        "B = A.clone()  # 通过分配新内存，将A的一个副本分配给B\n",
        "print(A)\n",
        "print(A + B)\n",
        "print(A * B)\n",
        "\n",
        "a = 2\n",
        "X = torch.arange(24).reshape(2, 3, 4)\n",
        "print(a + X)\n",
        "print((a * X).shape)"
      ],
      "metadata": {
        "colab": {
          "base_uri": "https://localhost:8080/"
        },
        "id": "V0Tc7Q0pMo_e",
        "outputId": "581f4e1c-25ad-4b04-ee47-244bfbb68884"
      },
      "execution_count": 14,
      "outputs": [
        {
          "output_type": "stream",
          "name": "stdout",
          "text": [
            "tensor([[ 0.,  1.,  2.,  3.],\n",
            "        [ 4.,  5.,  6.,  7.],\n",
            "        [ 8.,  9., 10., 11.],\n",
            "        [12., 13., 14., 15.],\n",
            "        [16., 17., 18., 19.]])\n",
            "tensor([[ 0.,  2.,  4.,  6.],\n",
            "        [ 8., 10., 12., 14.],\n",
            "        [16., 18., 20., 22.],\n",
            "        [24., 26., 28., 30.],\n",
            "        [32., 34., 36., 38.]])\n",
            "tensor([[  0.,   1.,   4.,   9.],\n",
            "        [ 16.,  25.,  36.,  49.],\n",
            "        [ 64.,  81., 100., 121.],\n",
            "        [144., 169., 196., 225.],\n",
            "        [256., 289., 324., 361.]])\n",
            "tensor([[[ 2,  3,  4,  5],\n",
            "         [ 6,  7,  8,  9],\n",
            "         [10, 11, 12, 13]],\n",
            "\n",
            "        [[14, 15, 16, 17],\n",
            "         [18, 19, 20, 21],\n",
            "         [22, 23, 24, 25]]])\n",
            "torch.Size([2, 3, 4])\n"
          ]
        }
      ]
    },
    {
      "cell_type": "code",
      "source": [
        "# 降维\n",
        "x = torch.arange(4, dtype=torch.float32)\n",
        "print(x)\n",
        "print(x.sum())\n",
        "\n",
        "A = torch.arange(20, dtype=torch.float32).reshape(5, 4)\n",
        "print(A)\n",
        "print(A.sum())\n",
        "print(A.shape)\n",
        "\n",
        "A_sum_axis0 = A.sum(axis=0)\n",
        "print(A_sum_axis0)\n",
        "print(A_sum_axis0.shape)\n",
        "\n",
        "A_sum_axis1 = A.sum(axis=1)\n",
        "print(A_sum_axis1)\n",
        "print(A_sum_axis1.shape)\n",
        "\n",
        "A_sum_axis01 = A.sum(axis=[0, 1])  # 相当于对所有元素求和\n",
        "print(A_sum_axis01)\n",
        "print(A_sum_axis01.shape)\n",
        "\n",
        "print(A.mean(axis=0))\n",
        "print(A.sum(axis=0) / A.shape[0])\n"
      ],
      "metadata": {
        "colab": {
          "base_uri": "https://localhost:8080/"
        },
        "id": "Z7LI6AsDNybK",
        "outputId": "f27ddd6c-25e3-4aa6-9f91-0dd0863248e1"
      },
      "execution_count": 24,
      "outputs": [
        {
          "output_type": "stream",
          "name": "stdout",
          "text": [
            "tensor([0., 1., 2., 3.])\n",
            "tensor(6.)\n",
            "tensor([[ 0.,  1.,  2.,  3.],\n",
            "        [ 4.,  5.,  6.,  7.],\n",
            "        [ 8.,  9., 10., 11.],\n",
            "        [12., 13., 14., 15.],\n",
            "        [16., 17., 18., 19.]])\n",
            "tensor(190.)\n",
            "torch.Size([5, 4])\n",
            "tensor([40., 45., 50., 55.])\n",
            "torch.Size([4])\n",
            "tensor([ 6., 22., 38., 54., 70.])\n",
            "torch.Size([5])\n",
            "tensor(190.)\n",
            "torch.Size([])\n",
            "tensor([ 8.,  9., 10., 11.])\n",
            "tensor([ 8.,  9., 10., 11.])\n"
          ]
        }
      ]
    },
    {
      "cell_type": "code",
      "source": [
        "# 非降维求和 \n",
        "A = torch.arange(20, dtype=torch.float32).reshape(5, 4)\n",
        "print(A)\n",
        "sum_A = A.sum(axis=1, keepdims=True)  # 求和之后不改变维数\n",
        "print(sum_A)\n",
        "print(sum_A.shape)\n",
        "\n",
        "# 由于sum_A在对每行进行求和后仍保持两个轴，我们可以通过广播将A除以sum_A\n",
        "print(A / sum_A)\n",
        "\n",
        "# 如果我们想沿某个轴计算A元素的累积总和，比如axis=0（按行计算），我们可以调用cumsum函数,此函数不会沿任何轴降低输入张量的维度\n",
        "print(A.cumsum(axis=0))"
      ],
      "metadata": {
        "colab": {
          "base_uri": "https://localhost:8080/"
        },
        "id": "QNOMXcWGRGpv",
        "outputId": "1a99b4df-68c3-4150-b747-68a09c9ae968"
      },
      "execution_count": 29,
      "outputs": [
        {
          "output_type": "stream",
          "name": "stdout",
          "text": [
            "tensor([[ 0.,  1.,  2.,  3.],\n",
            "        [ 4.,  5.,  6.,  7.],\n",
            "        [ 8.,  9., 10., 11.],\n",
            "        [12., 13., 14., 15.],\n",
            "        [16., 17., 18., 19.]])\n",
            "tensor([[ 6.],\n",
            "        [22.],\n",
            "        [38.],\n",
            "        [54.],\n",
            "        [70.]])\n",
            "torch.Size([5, 1])\n",
            "tensor([[0.0000, 0.1667, 0.3333, 0.5000],\n",
            "        [0.1818, 0.2273, 0.2727, 0.3182],\n",
            "        [0.2105, 0.2368, 0.2632, 0.2895],\n",
            "        [0.2222, 0.2407, 0.2593, 0.2778],\n",
            "        [0.2286, 0.2429, 0.2571, 0.2714]])\n",
            "tensor([[ 0.,  1.,  2.,  3.],\n",
            "        [ 4.,  6.,  8., 10.],\n",
            "        [12., 15., 18., 21.],\n",
            "        [24., 28., 32., 36.],\n",
            "        [40., 45., 50., 55.]])\n"
          ]
        }
      ]
    },
    {
      "cell_type": "code",
      "source": [
        "# 点积\n",
        "x = torch.arange(4, dtype=torch.float32)\n",
        "y = torch.ones(4, dtype=torch.float32)\n",
        "print(x)\n",
        "print(y)\n",
        "print(torch.dot(x, y))  # 向量与向量相乘"
      ],
      "metadata": {
        "colab": {
          "base_uri": "https://localhost:8080/"
        },
        "id": "WpTLbOxKb-my",
        "outputId": "17e880e1-9313-4640-a85b-970d268cc099"
      },
      "execution_count": 31,
      "outputs": [
        {
          "output_type": "stream",
          "name": "stdout",
          "text": [
            "tensor([0., 1., 2., 3.])\n",
            "tensor([1., 1., 1., 1.])\n",
            "tensor(6.)\n"
          ]
        }
      ]
    },
    {
      "cell_type": "code",
      "source": [
        "# 矩阵-向量积\n",
        "A = torch.arange(20, dtype=torch.float32).reshape(5, 4)\n",
        "print(A)\n",
        "print(A.shape)\n",
        "print(x.shape)\n",
        "print(torch.mv(A, x))  # 矩阵与向量相乘\n",
        "\n",
        "B = torch.ones(4, 3)\n",
        "print(torch.mm(A, B))  # 矩阵与矩阵相乘"
      ],
      "metadata": {
        "colab": {
          "base_uri": "https://localhost:8080/"
        },
        "id": "HuUTEdWoc6ut",
        "outputId": "0fda2ee1-cbf7-41cf-d2cd-0b71fbe6d630"
      },
      "execution_count": 33,
      "outputs": [
        {
          "output_type": "stream",
          "name": "stdout",
          "text": [
            "tensor([[ 0.,  1.,  2.,  3.],\n",
            "        [ 4.,  5.,  6.,  7.],\n",
            "        [ 8.,  9., 10., 11.],\n",
            "        [12., 13., 14., 15.],\n",
            "        [16., 17., 18., 19.]])\n",
            "torch.Size([5, 4])\n",
            "torch.Size([4])\n",
            "tensor([ 14.,  38.,  62.,  86., 110.])\n",
            "tensor([[ 6.,  6.,  6.],\n",
            "        [22., 22., 22.],\n",
            "        [38., 38., 38.],\n",
            "        [54., 54., 54.],\n",
            "        [70., 70., 70.]])\n"
          ]
        }
      ]
    },
    {
      "cell_type": "code",
      "source": [
        "# 范数\n",
        "u = torch.tensor([3.0, -4.0])\n",
        "res1 = torch.norm(u)  # 计算向量的L2范数\n",
        "print(res1)\n",
        "\n",
        "res2 = torch.abs(u).sum()  # 计算向量的L1范数\n",
        "print(res2)\n",
        "\n",
        "res3 = torch.norm(torch.ones((4, 9)))  # 计算F范数:就是求矩阵元素平方和的平方根\n",
        "print(res3)"
      ],
      "metadata": {
        "colab": {
          "base_uri": "https://localhost:8080/"
        },
        "id": "CY_hBaxmffQa",
        "outputId": "ff607524-ff5a-46aa-fd5d-1164f420103f"
      },
      "execution_count": 36,
      "outputs": [
        {
          "output_type": "stream",
          "name": "stdout",
          "text": [
            "tensor(5.)\n",
            "tensor(7.)\n",
            "tensor(6.)\n"
          ]
        }
      ]
    }
  ]
}